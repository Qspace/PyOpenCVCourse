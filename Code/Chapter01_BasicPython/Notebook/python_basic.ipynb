{
 "metadata": {
  "language_info": {
   "codemirror_mode": {
    "name": "ipython",
    "version": 3
   },
   "file_extension": ".py",
   "mimetype": "text/x-python",
   "name": "python",
   "nbconvert_exporter": "python",
   "pygments_lexer": "ipython3",
   "version": "3.7.6-final"
  },
  "orig_nbformat": 2,
  "kernelspec": {
   "name": "python3",
   "display_name": "Python 3"
  }
 },
 "nbformat": 4,
 "nbformat_minor": 2,
 "cells": [
  {
   "source": [
    "# 1. Hello python"
   ],
   "cell_type": "markdown",
   "metadata": {}
  },
  {
   "cell_type": "code",
   "execution_count": null,
   "metadata": {},
   "outputs": [],
   "source": [
    "print(\"hello python 3\")"
   ]
  },
  {
   "source": [
    "# 2. Biến và toán tử\n",
    "## 2.1 Biến\n",
    "Sử dụng biến để lưu trữ giá trị cần sử dụng đi sử dụng lại nhiều lần\n",
    "Chương trình phải dành 1 vùng memory để lưu trữ biến.\n",
    "\n",
    "Dùng ký tự \"=\" để gán giá trị cho biến"
   ],
   "cell_type": "markdown",
   "metadata": {}
  },
  {
   "cell_type": "code",
   "execution_count": null,
   "metadata": {},
   "outputs": [],
   "source": [
    "msg=\"hello python 3\"\n",
    "print(msg)\n",
    "print(msg)\n",
    "print(msg)\n",
    "newmsg=msg\n",
    "print(\"New message:\" + newmsg)"
   ]
  },
  {
   "source": [
    "## 2.2 Toán tử"
   ],
   "cell_type": "markdown",
   "metadata": {}
  },
  {
   "cell_type": "code",
   "execution_count": null,
   "metadata": {},
   "outputs": [],
   "source": [
    "a=7\n",
    "b=2"
   ]
  },
  {
   "cell_type": "code",
   "execution_count": null,
   "metadata": {},
   "outputs": [],
   "source": [
    "a+b"
   ]
  },
  {
   "cell_type": "code",
   "execution_count": null,
   "metadata": {},
   "outputs": [],
   "source": [
    "a-b"
   ]
  },
  {
   "source": [
    "a*b"
   ],
   "cell_type": "code",
   "metadata": {},
   "execution_count": null,
   "outputs": []
  },
  {
   "cell_type": "code",
   "execution_count": null,
   "metadata": {},
   "outputs": [],
   "source": [
    "a/b"
   ]
  },
  {
   "cell_type": "code",
   "execution_count": null,
   "metadata": {},
   "outputs": [],
   "source": [
    "# chia phần nguyên\n",
    "a//b"
   ]
  },
  {
   "cell_type": "code",
   "execution_count": null,
   "metadata": {},
   "outputs": [],
   "source": [
    "# chia lấy phần dư\n",
    "a%b"
   ]
  },
  {
   "source": [
    "# lũy thừa\n",
    "a**b"
   ],
   "cell_type": "code",
   "metadata": {},
   "execution_count": null,
   "outputs": []
  },
  {
   "cell_type": "code",
   "execution_count": null,
   "metadata": {},
   "outputs": [],
   "source": [
    "# tính toán và gán\n",
    "a+=2\n",
    "#a++=>ERROR\n",
    "# a++"
   ]
  },
  {
   "source": [
    "# 3. Kiểu dữ liệu\n",
    "\n",
    "Khi gán dữ liệu cho 1 biến, tùy theo giá trị khỏi tạo được gán là int, float, string... Python sẽ tự xác định kiểu dữ liệu cho biến đó(khác c/c++).\n",
    "\n",
    "Để xác định kiểu dữ liệu của biến: dùng hàm type()\n",
    "\n",
    "Python dùng id(same same memory address) để định danh cho mỗi biến/đối tượng. Để xác định id của biến: dùng hàm id()\n",
    "\n",
    "## 3.1 Integer\n",
    "\n",
    "Số nguyên có dấu: -5,4,0,1\n"
   ],
   "cell_type": "markdown",
   "metadata": {}
  },
  {
   "source": [
    "age=100\n",
    "type(age)\n",
    "age"
   ],
   "cell_type": "code",
   "metadata": {},
   "execution_count": null,
   "outputs": []
  },
  {
   "source": [
    "## 3.2 FLoat\n",
    "Số thực dấu chấm động"
   ],
   "cell_type": "markdown",
   "metadata": {}
  },
  {
   "cell_type": "code",
   "execution_count": null,
   "metadata": {},
   "outputs": [],
   "source": [
    "height=9.17\n",
    "height=-9.17\n",
    "type(height)"
   ]
  },
  {
   "source": [
    "## 3.3 String\n",
    "Chuỗi ký tự\n",
    "\n",
    "### 3.3.1 Khai báo"
   ],
   "cell_type": "markdown",
   "metadata": {}
  },
  {
   "cell_type": "code",
   "execution_count": null,
   "metadata": {},
   "outputs": [],
   "source": [
    "name=\"abc\"\n",
    "name=\"ABC\"\n",
    "cardId=\"123\"\n",
    "cardId=123"
   ]
  },
  {
   "source": [
    "### 3.3.2 Thao tác với string thông qua các built-in function"
   ],
   "cell_type": "markdown",
   "metadata": {}
  },
  {
   "cell_type": "code",
   "execution_count": null,
   "metadata": {},
   "outputs": [],
   "source": [
    "name=\"nguyen van a\"\n",
    "name.upper()"
   ]
  },
  {
   "cell_type": "code",
   "execution_count": null,
   "metadata": {},
   "outputs": [],
   "source": [
    "name.lower()"
   ]
  },
  {
   "cell_type": "code",
   "execution_count": null,
   "metadata": {},
   "outputs": [],
   "source": [
    "name.count(\"a\")"
   ]
  },
  {
   "cell_type": "code",
   "execution_count": null,
   "metadata": {},
   "outputs": [],
   "source": [
    "name.startswith(\"n\")"
   ]
  },
  {
   "cell_type": "code",
   "execution_count": null,
   "metadata": {},
   "outputs": [],
   "source": [
    "name.endswith(\"a\")"
   ]
  },
  {
   "cell_type": "code",
   "execution_count": null,
   "metadata": {},
   "outputs": [],
   "source": [
    "name.find(\"g\")"
   ]
  },
  {
   "cell_type": "code",
   "execution_count": null,
   "metadata": {},
   "outputs": [],
   "source": [
    "name.find(\"n\",1)"
   ]
  },
  {
   "cell_type": "code",
   "execution_count": null,
   "metadata": {},
   "outputs": [],
   "source": [
    "name.find(\"n\",1,3)"
   ]
  },
  {
   "cell_type": "code",
   "execution_count": null,
   "metadata": {},
   "outputs": [],
   "source": [
    "name.isalnum()"
   ]
  },
  {
   "cell_type": "code",
   "execution_count": null,
   "metadata": {},
   "outputs": [],
   "source": [
    "name.split(\" \")"
   ]
  },
  {
   "cell_type": "code",
   "execution_count": null,
   "metadata": {},
   "outputs": [],
   "source": [
    "name.replace(\"n\",\"N\")"
   ]
  },
  {
   "source": [
    "### 3.3.3 Format string\n",
    "\n",
    "- Toán tử %"
   ],
   "cell_type": "markdown",
   "metadata": {}
  },
  {
   "cell_type": "code",
   "execution_count": null,
   "metadata": {},
   "outputs": [],
   "source": [
    "hocky=1\n",
    "ten=\"abc\"\n",
    "diem=7.126789\n",
    "msg= \"Diem tong ket hoc ky %d cua hoc sinh %s la: %4.2f\" %(hocky, ten, diem)\n",
    "print(msg)"
   ]
  },
  {
   "source": [
    "- Hàm format()"
   ],
   "cell_type": "markdown",
   "metadata": {}
  },
  {
   "cell_type": "code",
   "execution_count": null,
   "metadata": {},
   "outputs": [],
   "source": [
    "hocky=1\n",
    "ten=\"abc\"\n",
    "diem=7.126789\n",
    "msg= \"Diem tong ket hoc ky {0:d} cua hoc sinh {1:s} la: {2:4.2f}\" .format(hocky, ten, diem)\n",
    "print(msg)"
   ]
  },
  {
   "source": [
    "## 3.4 Type casting (ép kiểu)\n",
    "- Chuyển đổi từ kiểu này sang kiểu khác. \n",
    "- Built-in function: int(), float(), str()"
   ],
   "cell_type": "markdown",
   "metadata": {}
  },
  {
   "cell_type": "code",
   "execution_count": null,
   "metadata": {},
   "outputs": [],
   "source": [
    "int(\"5\")                           "
   ]
  },
  {
   "cell_type": "code",
   "execution_count": null,
   "metadata": {},
   "outputs": [],
   "source": [
    "int(5.0123)                      "
   ]
  },
  {
   "cell_type": "code",
   "execution_count": null,
   "metadata": {},
   "outputs": [],
   "source": [
    "int(\"hello\")"
   ]
  },
  {
   "cell_type": "code",
   "execution_count": null,
   "metadata": {},
   "outputs": [],
   "source": [
    "int(\"5.0123\")                   "
   ]
  },
  {
   "cell_type": "code",
   "execution_count": null,
   "metadata": {},
   "outputs": [],
   "source": [
    "float(2)\t"
   ]
  },
  {
   "cell_type": "code",
   "execution_count": null,
   "metadata": {},
   "outputs": [],
   "source": [
    "float(\"2.09\")\t"
   ]
  },
  {
   "cell_type": "code",
   "execution_count": null,
   "metadata": {},
   "outputs": [],
   "source": [
    "string(2.1)"
   ]
  },
  {
   "source": [
    "## 3.5 List\n",
    "- Tương tự như mảng trong (C/C++), dùng để lưu trữ 1 mảng các dữ liệu thường là có liên quan nhau.\n",
    "- Các thành phần trong list có thể có kiểu dữ liệu khác nhau(Khác biệt với mảng trong (C/C++))\n",
    "- Khai báo:\n",
    "tenList=[[gia, tri, khoi, tao]]\n",
    "\n"
   ],
   "cell_type": "markdown",
   "metadata": {}
  },
  {
   "cell_type": "code",
   "execution_count": null,
   "metadata": {},
   "outputs": [],
   "source": [
    "# Khai báo\n",
    "userAge=[]\n",
    "userAge=[0]\n",
    "userAge=[1,  2,  3,  4,  5]\n"
   ]
  },
  {
   "cell_type": "code",
   "execution_count": null,
   "metadata": {},
   "outputs": [],
   "source": [
    "# Truy cập giá trị\n",
    "userAge[0]\n",
    "userAge[-1]\n",
    "userAge[-2]\n"
   ]
  },
  {
   "cell_type": "code",
   "execution_count": null,
   "metadata": {},
   "outputs": [],
   "source": [
    "# Slice\n",
    "userAge[1:5]\n",
    "userAge[1:5:2]\n",
    "# Một vài giá trị mặc định:\n",
    "# [ :4] =>[0:4]\n",
    "# [1: ] =>[1:5]\n",
    "userAge[:4]\n",
    "userAge[1:]\n",
    "userAge1=userAge\n",
    "userAge1=userAge[2:4]"
   ]
  },
  {
   "cell_type": "code",
   "execution_count": null,
   "metadata": {},
   "outputs": [],
   "source": [
    "# Chỉnh sửa list\n",
    "userAge=[1,2,3,4,5]\n",
    "userAge[0]=0\n",
    "userAge.append(6)\n",
    "del userAge[0]\n",
    "userAge.sort()\n",
    "sorted(userAge)\n"
   ]
  },
  {
   "source": [
    "## 3.6 Tuple\n",
    "- Giống list nhưng không thể chỉnh sửa giá trị một khi đã được set\n",
    "- Truy cập vào các thành phần tương tự như list.\n",
    "   \n"
   ],
   "cell_type": "markdown",
   "metadata": {}
  },
  {
   "cell_type": "code",
   "execution_count": null,
   "metadata": {},
   "outputs": [],
   "source": [
    "mua=(\"xuan\",\"ha\",\"thu\",\"dong\")\n",
    "mua[0]\n",
    "mua[-1]"
   ]
  },
  {
   "source": [
    "## 3.7 Set\n",
    "- 1 tập các data chưa được sắp xếp, k hỗ trợ index\n",
    "- K chứa nhiều hơn 1 phần tử trùng lặp\n",
    "- Set không thể chứa set. Khác với List có thể chứa list(nested list)"
   ],
   "cell_type": "markdown",
   "metadata": {}
  },
  {
   "cell_type": "code",
   "execution_count": null,
   "metadata": {},
   "outputs": [],
   "source": [
    "mySet = {1,2,3,\"a\",\"b\",\"c\"}\n",
    "mySet = set((1,2,3))\n",
    "mySet = set()\n"
   ]
  },
  {
   "cell_type": "code",
   "execution_count": null,
   "metadata": {},
   "outputs": [],
   "source": [
    "# Một số toán tử\n",
    "set1={1,2,3,4,5}\n",
    "set2={1,3,7}\n",
    "# Hiệu\n",
    "set1-set2\n",
    "# Giao\n",
    "set1&set2\n",
    "# Hợp\n",
    "set1|set2\n",
    "# Hợp – giao\n",
    "set1^set2"
   ]
  },
  {
   "source": [
    "## 3.8 Dictionary\n"
   ],
   "cell_type": "markdown",
   "metadata": {}
  },
  {
   "cell_type": "code",
   "execution_count": null,
   "metadata": {},
   "outputs": [],
   "source": [
    "# Khai báo\n",
    "myDictionary = {}\n",
    "myDictionary = dict(cho=1, lon=2, meo=3)\n",
    "myDictionary = {\"cho\": 1, \"lon\": 2, \"meo\": 3}\n",
    "myDictionary = {\"cho\":1, \"meo\":1}\n",
    "\n"
   ]
  },
  {
   "cell_type": "code",
   "execution_count": null,
   "metadata": {},
   "outputs": [],
   "source": [
    "# Thao tác\n",
    "myDictionary = dict(cho=1, lon=2, meo=3)\n",
    "myDictionary[\"cho\"]\n",
    "myDictionary[\"cho\"]=2\n",
    "del myDict[\"meo\"]"
   ]
  },
  {
   "source": [
    "# 4. Điều kiện và rẽ nhánh\n",
    "\n"
   ],
   "cell_type": "markdown",
   "metadata": {}
  },
  {
   "cell_type": "code",
   "execution_count": null,
   "metadata": {},
   "outputs": [],
   "source": [
    "x=9\n",
    "if x%3 == 0:\n",
    "    print(\"{0:d} Chia het cho 3\".format(x))\n",
    "elif x%2 == 0:\n",
    "    print(\"{0:d} Chia het cho 2\".format(x))\n",
    "else:\n",
    "    print(\"Bo qua\")"
   ]
  },
  {
   "source": [
    "# 5. Vòng lặp\n",
    "## 5.1 for/while"
   ],
   "cell_type": "markdown",
   "metadata": {}
  },
  {
   "cell_type": "code",
   "execution_count": null,
   "metadata": {},
   "outputs": [],
   "source": [
    "for x in [1,2,3,5]:\n",
    "    print(x)\t"
   ]
  },
  {
   "cell_type": "code",
   "execution_count": null,
   "metadata": {},
   "outputs": [],
   "source": [
    "for x in range(5):\n",
    "    print(x)"
   ]
  },
  {
   "cell_type": "code",
   "execution_count": null,
   "metadata": {},
   "outputs": [],
   "source": [
    "x=0\n",
    "while x<=5:\n",
    "    print(x)\n",
    "    x+=1"
   ]
  },
  {
   "source": [
    "## 5.2 Break và continue\n",
    "\n",
    "- break: thoát khỏi loop\n",
    "- continue: bỏ qua các câu lệnh phía sau và nhảy continue loop với iterator kế tiếp\n"
   ],
   "cell_type": "markdown",
   "metadata": {}
  },
  {
   "cell_type": "code",
   "execution_count": 11,
   "metadata": {},
   "outputs": [
    {
     "output_type": "stream",
     "name": "stdout",
     "text": [
      "1\n2\n"
     ]
    }
   ],
   "source": [
    "for x in range(1,10):\n",
    "    if x%3 == 0:\n",
    "        break\n",
    "    print(x)"
   ]
  },
  {
   "cell_type": "code",
   "execution_count": 12,
   "metadata": {},
   "outputs": [
    {
     "output_type": "stream",
     "name": "stdout",
     "text": [
      "1\n2\n4\n5\n7\n8\n"
     ]
    }
   ],
   "source": [
    "for x in range(1,10):\n",
    "    if x%3 == 0:\n",
    "        continue\n",
    "    print(x)"
   ]
  },
  {
   "source": [
    "# 6. Try/Except"
   ],
   "cell_type": "markdown",
   "metadata": {}
  },
  {
   "cell_type": "code",
   "execution_count": 19,
   "metadata": {},
   "outputs": [
    {
     "output_type": "stream",
     "name": "stdout",
     "text": [
      "Something went wrong when writing to the file\n"
     ]
    }
   ],
   "source": [
    "try:\n",
    "  f = open(\"demofile.txt\",\"r\")\n",
    "  f.write(\"Lorum Ipsum\")\n",
    "except:\n",
    "  print(\"Something went wrong when writing to the file\")\n",
    "finally:\n",
    "  f.close()"
   ]
  },
  {
   "cell_type": "code",
   "execution_count": 21,
   "metadata": {},
   "outputs": [
    {
     "output_type": "error",
     "ename": "SyntaxError",
     "evalue": "'break' outside loop (<ipython-input-21-2f7c93336de7>, line 9)",
     "traceback": [
      "\u001b[1;36m  File \u001b[1;32m\"<ipython-input-21-2f7c93336de7>\"\u001b[1;36m, line \u001b[1;32m9\u001b[0m\n\u001b[1;31mSyntaxError\u001b[0m\u001b[1;31m:\u001b[0m 'break' outside loop\n"
     ]
    }
   ],
   "source": [
    "try:\n",
    "  f = open(\"demofile.txt\",\"r\")\n",
    "  f.write(\"Lorum Ipsum\")\n",
    "except:\n",
    "  print(\"Something went wrong when writing to the file\")\n",
    "f.close()"
   ]
  }
 ]
}