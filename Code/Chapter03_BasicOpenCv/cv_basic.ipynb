{
 "metadata": {
  "language_info": {
   "codemirror_mode": {
    "name": "ipython",
    "version": 3
   },
   "file_extension": ".py",
   "mimetype": "text/x-python",
   "name": "python",
   "nbconvert_exporter": "python",
   "pygments_lexer": "ipython3",
   "version": "3.8.2-final"
  },
  "orig_nbformat": 2,
  "kernelspec": {
   "name": "python3",
   "display_name": "Python 3.8.2 64-bit ('opencv': conda)",
   "metadata": {
    "interpreter": {
     "hash": "f214cbf8e062727f44f0a06d3c04325eb8b22b75a5e82a1f30ba6845a8179d1b"
    }
   }
  }
 },
 "nbformat": 4,
 "nbformat_minor": 2,
 "cells": [
  {
   "source": [
    "# 1. Tải ảnh lên và show ảnh ra màn hình"
   ],
   "cell_type": "markdown",
   "metadata": {}
  },
  {
   "cell_type": "code",
   "execution_count": 8,
   "metadata": {},
   "outputs": [
    {
     "output_type": "stream",
     "name": "stdout",
     "text": [
      "width=1024, height=686, depth=3\n"
     ]
    }
   ],
   "source": [
    "#Load anh tu disk len ram, anh la 1 mang numPy nhieu chieu\n",
    "#Print gia tri (height, widht, depth) cua anh\n",
    "#height: số lượng hàng của mảng điểm ảnh\n",
    "#width: số lượng cột của mảng điểm ảnh\n",
    "#depth: số lượng kênh màu sắc, ví dụ ở chế độ RGB thì có 3 depth=3\n",
    "#Hien thi anh len man hinh\n",
    "import cv2\n",
    "import os\n",
    "\n",
    "imgPath = os.path.sep.join([\"Images\",\"TwoFaces.jpg\"])\n",
    "image = cv2.imread(imgPath)\n",
    "(height,width,depth) = image.shape\n",
    "print(\"width={}, height={}, depth={}\".format(width,height,depth))\n",
    "cv2.imshow(\"BasicImage\",image)\n",
    "cv2.waitKey(0)\n",
    "cv2.destroyAllWindows()"
   ]
  },
  {
   "source": [
    "# 2. Thao tác với điểm ảnh\n",
    "\n",
    "- Image là tập các điểm ảnh\n",
    "- Image 640**480: 640 cột  * 480 hàng = 307200 điểm ảnh(pixels)\n",
    "- Image gray: mỗi điểm ảnh có giá trị 0-255 ứng với 256 mức gray.\n",
    "- Image màu: Mỗi điểm ảnh là list: [B, G, R]\n"
   ],
   "cell_type": "markdown",
   "metadata": {}
  },
  {
   "cell_type": "code",
   "execution_count": 13,
   "metadata": {},
   "outputs": [
    {
     "output_type": "stream",
     "name": "stdout",
     "text": [
      "<class 'numpy.ndarray'>\nB=82, G=90, R=80\n"
     ]
    }
   ],
   "source": [
    "import cv2\n",
    "import os\n",
    "\n",
    "imgPath = os.path.sep.join([\"Images\",\"TwoFaces.jpg\"])\n",
    "image = cv2.imread(imgPath)\n",
    "[B,G,R] = image[100,100]\n",
    "print(\"B={}, G={}, R={}\".format(B,G,R))\n",
    "cv2.imshow(\"BasicImage\",image)\n",
    "cv2.waitKey(0)\n",
    "cv2.destroyAllWindows()"
   ]
  },
  {
   "source": [
    "# 3. Lấy vùng quan tâm ROI"
   ],
   "cell_type": "markdown",
   "metadata": {}
  },
  {
   "cell_type": "code",
   "execution_count": null,
   "metadata": {},
   "outputs": [],
   "source": [
    "# Crop hình bé trai ra\n",
    "import cv2\n",
    "import os\n",
    "\n",
    "imgPath = os.path.sep.join([\"Images\",\"TwoFaces.jpg\"])\n",
    "image = cv2.imread(imgPath)\n",
    "#Tham khao them ve numpy va array de hieu code\n",
    "#https://datascienceplus.com/vectors-and-arrays-in-python/\n",
    "#ROI(Region of Interest): Vung quan tam cua anh\n",
    "roi = image[196:685,608:821] # [start_y: end_y, start_x: end_x]\n",
    "                             #slice list tu hang 196 toi 684, cot 608 toi 821\n",
    "cv2.imshow(\"BasicImage\",roi)\n",
    "cv2.waitKey(0)\n",
    "cv2.destroyAllWindows()"
   ]
  },
  {
   "source": [
    "# 4. Resize ảnh"
   ],
   "cell_type": "markdown",
   "metadata": {}
  }
 ]
}